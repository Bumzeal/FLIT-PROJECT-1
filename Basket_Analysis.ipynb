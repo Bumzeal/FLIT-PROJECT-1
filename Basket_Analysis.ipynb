{
 "cells": [
  {
   "attachments": {},
   "cell_type": "markdown",
   "metadata": {},
   "source": [
    "# MARKET BASKET ANALYSIS\n"
   ]
  },
  {
   "attachments": {},
   "cell_type": "markdown",
   "metadata": {},
   "source": [
    "## OBJECTIVE\n",
    "Association Rule Mining is a data mining technique that discovers interesting relationships, patterns, or associations within large datasets. It aims to identify rules that describe how certain items or events tend to co-occur. One of the most common applications of association rule mining is in the analysis of transactional data\n",
    "\n",
    "The primary goal of Association Rule Mining is to reveal hidden patterns in the data, enabling businesses and researchers to gain insights into the relationships between different variables. The classic example is market basket analysis which is a crucial aspect of data science in retail and e-commerce, and the goal of this project is to discover which Items are frequently purchased together.\n"
   ]
  },
  {
   "attachments": {},
   "cell_type": "markdown",
   "metadata": {},
   "source": [
    "## TOOLS USED\n",
    "\n",
    "* Data Analysis Tool (Python: using Libries such Pandas)\n",
    "* Data Visualisation such Matplotlib\n",
    "* Scikit-Learn\n",
    "* Jupyter Notebook\n",
    "* APRIORI ALGORITHM"
   ]
  },
  {
   "attachments": {},
   "cell_type": "markdown",
   "metadata": {},
   "source": [
    "## Data Preparation\n",
    "\n",
    "1. Exploratory Data Analysis (EDA)\n",
    "2. Market Basket Analysis\n",
    "3. Visualization\n",
    "4. Interpretation and Insights\n",
    "5. Recommendations\n",
    "6. Presentation\n",
    "\n",
    "Deliverables include:•\n",
    "* A well-documented Jupyter Notebook or  report containing code  and explanations.\n",
    "* Visualizations that support my findings..\n",
    "* A GitHub repository with documentation and code.\n",
    "\n"
   ]
  },
  {
   "cell_type": "code",
   "execution_count": 115,
   "metadata": {},
   "outputs": [],
   "source": [
    "# IMPORT LIBRARIES\n",
    "import pandas as pd\n",
    "import matplotlib.pyplot as plt\n",
    "import seaborn as sns\n",
    "import warnings \n",
    "warnings.filterwarnings('ignore')\n",
    "\n",
    "\n"
   ]
  },
  {
   "cell_type": "code",
   "execution_count": 116,
   "metadata": {},
   "outputs": [
    {
     "data": {
      "text/plain": [
       "'c:\\\\Users\\\\BUNMI\\\\Documents\\\\Flit Project 1'"
      ]
     },
     "execution_count": 116,
     "metadata": {},
     "output_type": "execute_result"
    }
   ],
   "source": [
    "# Import the Operating System\n",
    "\n",
    "import os \n",
    "path= \"/Users\\BUNMI\\Documents\\Flit Project 1\"\n",
    "os.chdir(path)\n",
    "os.getcwd()\n",
    "\n"
   ]
  },
  {
   "attachments": {},
   "cell_type": "markdown",
   "metadata": {},
   "source": [
    "## DATA PREPARATION\n",
    "\n",
    "1. Loading data from source-Desktop\n",
    "2. Viewing Top 10 Data \n",
    "3. Checking Total number of Row& Column,Datatypes\n",
    "4. checking missing Value"
   ]
  },
  {
   "cell_type": "code",
   "execution_count": 117,
   "metadata": {},
   "outputs": [
    {
     "data": {
      "text/html": [
       "<div>\n",
       "<style scoped>\n",
       "    .dataframe tbody tr th:only-of-type {\n",
       "        vertical-align: middle;\n",
       "    }\n",
       "\n",
       "    .dataframe tbody tr th {\n",
       "        vertical-align: top;\n",
       "    }\n",
       "\n",
       "    .dataframe thead th {\n",
       "        text-align: right;\n",
       "    }\n",
       "</style>\n",
       "<table border=\"1\" class=\"dataframe\">\n",
       "  <thead>\n",
       "    <tr style=\"text-align: right;\">\n",
       "      <th></th>\n",
       "      <th>Member_number</th>\n",
       "      <th>Date</th>\n",
       "      <th>itemDescription</th>\n",
       "    </tr>\n",
       "  </thead>\n",
       "  <tbody>\n",
       "    <tr>\n",
       "      <th>0</th>\n",
       "      <td>1808</td>\n",
       "      <td>21-07-2015</td>\n",
       "      <td>tropical fruit</td>\n",
       "    </tr>\n",
       "    <tr>\n",
       "      <th>1</th>\n",
       "      <td>2552</td>\n",
       "      <td>05-01-2015</td>\n",
       "      <td>whole milk</td>\n",
       "    </tr>\n",
       "    <tr>\n",
       "      <th>2</th>\n",
       "      <td>2300</td>\n",
       "      <td>19-09-2015</td>\n",
       "      <td>pip fruit</td>\n",
       "    </tr>\n",
       "    <tr>\n",
       "      <th>3</th>\n",
       "      <td>1187</td>\n",
       "      <td>12-12-2015</td>\n",
       "      <td>other vegetables</td>\n",
       "    </tr>\n",
       "    <tr>\n",
       "      <th>4</th>\n",
       "      <td>3037</td>\n",
       "      <td>01-02-2015</td>\n",
       "      <td>whole milk</td>\n",
       "    </tr>\n",
       "    <tr>\n",
       "      <th>5</th>\n",
       "      <td>4941</td>\n",
       "      <td>14-02-2015</td>\n",
       "      <td>rolls/buns</td>\n",
       "    </tr>\n",
       "    <tr>\n",
       "      <th>6</th>\n",
       "      <td>4501</td>\n",
       "      <td>08-05-2015</td>\n",
       "      <td>other vegetables</td>\n",
       "    </tr>\n",
       "    <tr>\n",
       "      <th>7</th>\n",
       "      <td>3803</td>\n",
       "      <td>23-12-2015</td>\n",
       "      <td>pot plants</td>\n",
       "    </tr>\n",
       "    <tr>\n",
       "      <th>8</th>\n",
       "      <td>2762</td>\n",
       "      <td>20-03-2015</td>\n",
       "      <td>whole milk</td>\n",
       "    </tr>\n",
       "    <tr>\n",
       "      <th>9</th>\n",
       "      <td>4119</td>\n",
       "      <td>12-02-2015</td>\n",
       "      <td>tropical fruit</td>\n",
       "    </tr>\n",
       "  </tbody>\n",
       "</table>\n",
       "</div>"
      ],
      "text/plain": [
       "   Member_number        Date   itemDescription\n",
       "0           1808  21-07-2015    tropical fruit\n",
       "1           2552  05-01-2015        whole milk\n",
       "2           2300  19-09-2015         pip fruit\n",
       "3           1187  12-12-2015  other vegetables\n",
       "4           3037  01-02-2015        whole milk\n",
       "5           4941  14-02-2015        rolls/buns\n",
       "6           4501  08-05-2015  other vegetables\n",
       "7           3803  23-12-2015        pot plants\n",
       "8           2762  20-03-2015        whole milk\n",
       "9           4119  12-02-2015    tropical fruit"
      ]
     },
     "execution_count": 117,
     "metadata": {},
     "output_type": "execute_result"
    }
   ],
   "source": [
    "# LOAD DATASET USING PANDAS\n",
    "data= pd.read_csv(\"Market Basket Analysis - Groceries_dataset.csv\")\n",
    "\n",
    "\n",
    "#checking at the first few rows of the dataset to get a sense of its structure\n",
    "data.head(10)\n"
   ]
  },
  {
   "attachments": {},
   "cell_type": "markdown",
   "metadata": {},
   "source": [
    "#### UNDERSTANDING THE DATA"
   ]
  },
  {
   "cell_type": "code",
   "execution_count": 118,
   "metadata": {},
   "outputs": [
    {
     "name": "stdout",
     "output_type": "stream",
     "text": [
      "This dataset contain (38765, 3) rows and column respectively\n"
     ]
    }
   ],
   "source": [
    "# what's the size of the dataset\n",
    "data_size = data.shape\n",
    "\n",
    "print(f'This dataset contain {data_size} rows and column respectively')"
   ]
  },
  {
   "cell_type": "code",
   "execution_count": 119,
   "metadata": {},
   "outputs": [
    {
     "name": "stdout",
     "output_type": "stream",
     "text": [
      "<class 'pandas.core.frame.DataFrame'>\n",
      "RangeIndex: 38765 entries, 0 to 38764\n",
      "Data columns (total 3 columns):\n",
      " #   Column           Non-Null Count  Dtype \n",
      "---  ------           --------------  ----- \n",
      " 0   Member_number    38765 non-null  int64 \n",
      " 1   Date             38765 non-null  object\n",
      " 2   itemDescription  38765 non-null  object\n",
      "dtypes: int64(1), object(2)\n",
      "memory usage: 908.7+ KB\n"
     ]
    }
   ],
   "source": [
    "# provide Additional Information of the dataset showing datatype of each Column\n",
    "data.info()"
   ]
  },
  {
   "cell_type": "code",
   "execution_count": 120,
   "metadata": {},
   "outputs": [],
   "source": [
    "# Identify missing values in the dataset.\n",
    "# missing_value = data.isnull().sum()\n",
    "\n",
    "# if missing_value == 0:\n",
    "#     print('There is no missing value')\n",
    "    "
   ]
  },
  {
   "attachments": {},
   "cell_type": "markdown",
   "metadata": {},
   "source": [
    "## DATA PREPROCESSING\n",
    "\n",
    "This involves Cleaning and preprocessing the data. Remove duplicates, handle missing values, and transform the data into a suitable format for analysis\n",
    "\n",
    "1. This Date was converted from Object to Date Timestamp\n",
    "2. The 759 was drop from the Dataset \n",
    "3. No Null value in the Dataset\n"
   ]
  },
  {
   "cell_type": "code",
   "execution_count": 121,
   "metadata": {},
   "outputs": [
    {
     "data": {
      "text/plain": [
       "False    38006\n",
       "True       759\n",
       "dtype: int64"
      ]
     },
     "execution_count": 121,
     "metadata": {},
     "output_type": "execute_result"
    }
   ],
   "source": [
    "data.duplicated().value_counts()"
   ]
  },
  {
   "cell_type": "code",
   "execution_count": 122,
   "metadata": {},
   "outputs": [
    {
     "name": "stdout",
     "output_type": "stream",
     "text": [
      "Total duplicate value is: 759\n"
     ]
    }
   ],
   "source": [
    "# Checking for the Total duplicate Values\n",
    "duplicate = data.duplicated().sum()\n",
    "\n",
    "# Display the result\n",
    "print(f'Total duplicate value is: {duplicate}')"
   ]
  },
  {
   "cell_type": "code",
   "execution_count": 123,
   "metadata": {},
   "outputs": [
    {
     "data": {
      "text/plain": [
       "(38006, 3)"
      ]
     },
     "execution_count": 123,
     "metadata": {},
     "output_type": "execute_result"
    }
   ],
   "source": [
    "# Removing Duplicate value which is 759 to ensure the data is properly clean\n",
    "Clean_data = data.drop_duplicates()\n",
    "\n",
    "# Check the count of the Clean Data\n",
    "Clean_data.shape"
   ]
  },
  {
   "cell_type": "code",
   "execution_count": 124,
   "metadata": {},
   "outputs": [
    {
     "name": "stdout",
     "output_type": "stream",
     "text": [
      "<class 'pandas.core.frame.DataFrame'>\n",
      "Int64Index: 38006 entries, 0 to 38764\n",
      "Data columns (total 3 columns):\n",
      " #   Column           Non-Null Count  Dtype         \n",
      "---  ------           --------------  -----         \n",
      " 0   Member_number    38006 non-null  int64         \n",
      " 1   Date             38006 non-null  datetime64[ns]\n",
      " 2   itemDescription  38006 non-null  object        \n",
      "dtypes: datetime64[ns](1), int64(1), object(1)\n",
      "memory usage: 1.2+ MB\n"
     ]
    }
   ],
   "source": [
    "#  Converting Date Column From Object Data to Time stamp\n",
    "Clean_data['Date'] = pd.to_datetime(Clean_data['Date'])\n",
    "\n",
    "# Check for the types of variables (numeric, categorical, etc.)\n",
    "Clean_data.info()"
   ]
  },
  {
   "cell_type": "code",
   "execution_count": 125,
   "metadata": {},
   "outputs": [
    {
     "data": {
      "text/plain": [
       "count    38006.000000\n",
       "mean      3003.361390\n",
       "std       1153.659151\n",
       "min       1000.000000\n",
       "25%       2001.000000\n",
       "50%       3005.000000\n",
       "75%       4007.000000\n",
       "max       5000.000000\n",
       "Name: Member_number, dtype: float64"
      ]
     },
     "execution_count": 125,
     "metadata": {},
     "output_type": "execute_result"
    }
   ],
   "source": [
    "# Getting basic statistics for the variable- Member Number (mean, median, standard deviation, etc.).\n",
    "\n",
    "Clean_data['Member_number'].describe()"
   ]
  },
  {
   "attachments": {},
   "cell_type": "markdown",
   "metadata": {},
   "source": [
    "## EXPLORATORY DATA ANALYSIS"
   ]
  },
  {
   "cell_type": "code",
   "execution_count": 126,
   "metadata": {},
   "outputs": [
    {
     "name": "stdout",
     "output_type": "stream",
     "text": [
      "This dataset contains 167 unique items\n"
     ]
    }
   ],
   "source": [
    "# Get the number of unique Items contained in the dataset\n",
    "unique_item = data['itemDescription'].nunique()\n",
    "\n",
    "print(f'This dataset contains {unique_item} unique items')"
   ]
  },
  {
   "cell_type": "code",
   "execution_count": 127,
   "metadata": {},
   "outputs": [
    {
     "name": "stdout",
     "output_type": "stream",
     "text": [
      "This dataset contains 3898 unique Id\n"
     ]
    }
   ],
   "source": [
    "#  Total Number of Unique customers contained in the dataset\n",
    "No_unique_id = data['Member_number'].nunique()\n",
    "\n",
    "print(f'This dataset contains {No_unique_id} unique Id')"
   ]
  },
  {
   "cell_type": "code",
   "execution_count": 128,
   "metadata": {},
   "outputs": [
    {
     "name": "stdout",
     "output_type": "stream",
     "text": [
      "Items Bought for Each day: Date        itemDescription   \n",
      "2014-01-01  bottled water         4\n",
      "            yogurt                4\n",
      "            frozen vegetables     3\n",
      "            hamburger meat        3\n",
      "            other vegetables      3\n",
      "                                 ..\n",
      "2015-12-30  rubbing alcohol       1\n",
      "            sausage               1\n",
      "            tropical fruit        1\n",
      "            turkey                1\n",
      "            whipped/sour cream    1\n",
      "Name: itemDescription, Length: 25231, dtype: int64\n"
     ]
    }
   ],
   "source": [
    "#  Items and Number of each Items sold per Each day\n",
    "items_sold_Eachday = Clean_data.groupby('Date')['itemDescription'].value_counts()\n",
    "\n",
    "# Display the result\n",
    "print(f'Items Bought for Each day: {items_sold_Eachday}')\n",
    "\n"
   ]
  },
  {
   "cell_type": "code",
   "execution_count": 129,
   "metadata": {},
   "outputs": [
    {
     "name": "stdout",
     "output_type": "stream",
     "text": [
      "whole milk               2502\n",
      "other vegetables         1898\n",
      "rolls/buns               1716\n",
      "soda                     1514\n",
      "yogurt                   1334\n",
      "                         ... \n",
      "rubbing alcohol             5\n",
      "bags                        4\n",
      "baby cosmetics              3\n",
      "kitchen utensil             1\n",
      "preservation products       1\n",
      "Name: itemDescription, Length: 167, dtype: int64\n"
     ]
    }
   ],
   "source": [
    "# The Item most purchase in the data\n",
    "item_count= data['itemDescription'].value_counts()\n",
    "\n",
    "# print out each Item with the Amount bought\n",
    "print(item_count)"
   ]
  },
  {
   "cell_type": "code",
   "execution_count": 130,
   "metadata": {},
   "outputs": [
    {
     "data": {
      "text/html": [
       "<div>\n",
       "<style scoped>\n",
       "    .dataframe tbody tr th:only-of-type {\n",
       "        vertical-align: middle;\n",
       "    }\n",
       "\n",
       "    .dataframe tbody tr th {\n",
       "        vertical-align: top;\n",
       "    }\n",
       "\n",
       "    .dataframe thead th {\n",
       "        text-align: right;\n",
       "    }\n",
       "</style>\n",
       "<table border=\"1\" class=\"dataframe\">\n",
       "  <thead>\n",
       "    <tr style=\"text-align: right;\">\n",
       "      <th></th>\n",
       "      <th></th>\n",
       "      <th></th>\n",
       "    </tr>\n",
       "    <tr>\n",
       "      <th>Member_number</th>\n",
       "      <th>itemDescription</th>\n",
       "      <th>Date</th>\n",
       "    </tr>\n",
       "  </thead>\n",
       "  <tbody>\n",
       "    <tr>\n",
       "      <th rowspan=\"10\" valign=\"top\">1000</th>\n",
       "      <th>canned beer</th>\n",
       "      <th>2015-07-24</th>\n",
       "    </tr>\n",
       "    <tr>\n",
       "      <th>hygiene articles</th>\n",
       "      <th>2015-11-25</th>\n",
       "    </tr>\n",
       "    <tr>\n",
       "      <th>misc. beverages</th>\n",
       "      <th>2015-07-24</th>\n",
       "    </tr>\n",
       "    <tr>\n",
       "      <th>pastry</th>\n",
       "      <th>2014-06-24</th>\n",
       "    </tr>\n",
       "    <tr>\n",
       "      <th>pickled vegetables</th>\n",
       "      <th>2015-05-27</th>\n",
       "    </tr>\n",
       "    <tr>\n",
       "      <th>salty snack</th>\n",
       "      <th>2014-06-24</th>\n",
       "    </tr>\n",
       "    <tr>\n",
       "      <th rowspan=\"2\" valign=\"top\">sausage</th>\n",
       "      <th>2015-03-15</th>\n",
       "    </tr>\n",
       "    <tr>\n",
       "      <th>2015-11-25</th>\n",
       "    </tr>\n",
       "    <tr>\n",
       "      <th>semi-finished bread</th>\n",
       "      <th>2015-03-15</th>\n",
       "    </tr>\n",
       "    <tr>\n",
       "      <th>soda</th>\n",
       "      <th>2015-05-27</th>\n",
       "    </tr>\n",
       "  </tbody>\n",
       "</table>\n",
       "</div>"
      ],
      "text/plain": [
       "Empty DataFrame\n",
       "Columns: []\n",
       "Index: [(1000, canned beer, 2015-07-24 00:00:00), (1000, hygiene articles, 2015-11-25 00:00:00), (1000, misc. beverages, 2015-07-24 00:00:00), (1000, pastry, 2014-06-24 00:00:00), (1000, pickled vegetables, 2015-05-27 00:00:00), (1000, salty snack, 2014-06-24 00:00:00), (1000, sausage, 2015-03-15 00:00:00), (1000, sausage, 2015-11-25 00:00:00), (1000, semi-finished bread, 2015-03-15 00:00:00), (1000, soda, 2015-05-27 00:00:00)]"
      ]
     },
     "execution_count": 130,
     "metadata": {},
     "output_type": "execute_result"
    }
   ],
   "source": [
    "# Aggregations TItems Bought by  Each member  and Date Each Item was Bought.\n",
    "group_member = Clean_data.groupby(['Member_number','itemDescription','Date']).count()\n",
    "\n",
    "group_member.head(10)"
   ]
  },
  {
   "cell_type": "code",
   "execution_count": 131,
   "metadata": {},
   "outputs": [
    {
     "data": {
      "text/plain": [
       "<matplotlib.collections.PathCollection at 0x7257542a30>"
      ]
     },
     "execution_count": 131,
     "metadata": {},
     "output_type": "execute_result"
    },
    {
     "data": {
      "image/png": "[encoded data removed]",
      "text/plain": [
       "<Figure size 432x288 with 1 Axes>"
      ]
     },
     "metadata": {
      "needs_background": "light"
     },
     "output_type": "display_data"
    }
   ],
   "source": [
    "# plot a scatter plot to get the idea on distribution of the data point\n",
    "%matplotlib inline\n",
    "from matplotlib import markers\n",
    "\n",
    "plt.xlabel('data')\n",
    "plt.ylabel('Date')\n",
    "plt.scatter(Clean_data['Member_number'],Clean_data['itemDescription'],color='red', marker='+')"
   ]
  },
  {
   "cell_type": "code",
   "execution_count": 132,
   "metadata": {},
   "outputs": [
    {
     "data": {
      "text/html": [
       "<div>\n",
       "<style scoped>\n",
       "    .dataframe tbody tr th:only-of-type {\n",
       "        vertical-align: middle;\n",
       "    }\n",
       "\n",
       "    .dataframe tbody tr th {\n",
       "        vertical-align: top;\n",
       "    }\n",
       "\n",
       "    .dataframe thead th {\n",
       "        text-align: right;\n",
       "    }\n",
       "</style>\n",
       "<table border=\"1\" class=\"dataframe\">\n",
       "  <thead>\n",
       "    <tr style=\"text-align: right;\">\n",
       "      <th></th>\n",
       "      <th></th>\n",
       "    </tr>\n",
       "    <tr>\n",
       "      <th>Member_number</th>\n",
       "      <th>itemDescription</th>\n",
       "    </tr>\n",
       "  </thead>\n",
       "  <tbody>\n",
       "    <tr>\n",
       "      <th rowspan=\"5\" valign=\"top\">1000</th>\n",
       "      <th>canned beer</th>\n",
       "    </tr>\n",
       "    <tr>\n",
       "      <th>hygiene articles</th>\n",
       "    </tr>\n",
       "    <tr>\n",
       "      <th>misc. beverages</th>\n",
       "    </tr>\n",
       "    <tr>\n",
       "      <th>pastry</th>\n",
       "    </tr>\n",
       "    <tr>\n",
       "      <th>pickled vegetables</th>\n",
       "    </tr>\n",
       "    <tr>\n",
       "      <th>...</th>\n",
       "      <th>...</th>\n",
       "    </tr>\n",
       "    <tr>\n",
       "      <th rowspan=\"5\" valign=\"top\">5000</th>\n",
       "      <th>onions</th>\n",
       "    </tr>\n",
       "    <tr>\n",
       "      <th>other vegetables</th>\n",
       "    </tr>\n",
       "    <tr>\n",
       "      <th>root vegetables</th>\n",
       "    </tr>\n",
       "    <tr>\n",
       "      <th>semi-finished bread</th>\n",
       "    </tr>\n",
       "    <tr>\n",
       "      <th>soda</th>\n",
       "    </tr>\n",
       "  </tbody>\n",
       "</table>\n",
       "<p>34766 rows × 0 columns</p>\n",
       "</div>"
      ],
      "text/plain": [
       "Empty DataFrame\n",
       "Columns: []\n",
       "Index: [(1000, canned beer), (1000, hygiene articles), (1000, misc. beverages), (1000, pastry), (1000, pickled vegetables), (1000, salty snack), (1000, sausage), (1000, semi-finished bread), (1000, soda), (1000, whole milk), (1000, yogurt), (1001, beef), (1001, curd), (1001, frankfurter), (1001, rolls/buns), (1001, sausage), (1001, soda), (1001, whipped/sour cream), (1001, white bread), (1001, whole milk), (1002, butter), (1002, butter milk), (1002, frozen vegetables), (1002, other vegetables), (1002, specialty chocolate), (1002, sugar), (1002, tropical fruit), (1002, whole milk), (1003, dental care), (1003, detergent), (1003, frozen meals), (1003, rolls/buns), (1003, root vegetables), (1003, sausage), (1004, canned beer), (1004, chocolate), (1004, cling film/bags), (1004, dish cleaner), (1004, frozen fish), (1004, hygiene articles), (1004, other vegetables), (1004, packaged fruit/vegetables), (1004, pastry), (1004, pip fruit), (1004, red/blush wine), (1004, rolls/buns), (1004, root vegetables), (1004, shopping bags), (1004, tropical fruit), (1004, whole milk), (1005, margarine), (1005, rolls/buns), (1005, whipped/sour cream), (1006, bottled beer), (1006, bottled water), (1006, chicken), (1006, chocolate), (1006, flour), (1006, frankfurter), (1006, rice), (1006, rolls/buns), (1006, shopping bags), (1006, skin care), (1006, softener), (1006, whole milk), (1008, dessert), (1008, domestic eggs), (1008, hamburger meat), (1008, liquor (appetizer)), (1008, liver loaf), (1008, photo/film), (1008, root vegetables), (1008, soda), (1008, tropical fruit), (1008, white wine), (1008, yogurt), (1009, canned fish), (1009, cocoa drinks), (1009, herbs), (1009, ketchup), (1009, newspapers), (1009, pastry), (1009, tropical fruit), (1009, yogurt), (1010, UHT-milk), (1010, bottled water), (1010, candles), (1010, coffee), (1010, frankfurter), (1010, kitchen towels), (1010, pip fruit), (1010, rolls/buns), (1010, sliced cheese), (1010, specialty bar), (1011, bottled water), (1011, candles), (1011, candy), (1011, citrus fruit), (1011, curd cheese), (1011, frankfurter), ...]\n",
       "\n",
       "[34766 rows x 0 columns]"
      ]
     },
     "execution_count": 132,
     "metadata": {},
     "output_type": "execute_result"
    }
   ],
   "source": [
    "group_member2 = Clean_data.groupby(['Member_number','itemDescription']).sum()\n",
    "\n",
    "group_member2"
   ]
  },
  {
   "cell_type": "code",
   "execution_count": 133,
   "metadata": {},
   "outputs": [
    {
     "data": {
      "image/png": "[encoded data removed]",
      "text/plain": [
       "<Figure size 1080x576 with 1 Axes>"
      ]
     },
     "metadata": {
      "needs_background": "light"
     },
     "output_type": "display_data"
    }
   ],
   "source": [
    "\n",
    "# Plotting the histogram to check summary of the frequency distribution of the member number in a single column\n",
    "plt.figure(figsize =(15,8))\n",
    "# Plotting the histogram\n",
    "plt.hist(Clean_data['Member_number'].value_counts(),bins =10, color ='blue',edgecolor ='black')\n",
    "\n",
    "# Adding labels and title\n",
    "plt.xlabel('customer count')\n",
    "plt.ylabel('frequency')\n",
    "plt.title('Distribution of Customers with more purchasing power')\n",
    "\n",
    "#  Display the plot\n",
    "plt.show()"
   ]
  },
  {
   "cell_type": "code",
   "execution_count": 134,
   "metadata": {},
   "outputs": [
    {
     "name": "stdout",
     "output_type": "stream",
     "text": [
      "AxesSubplot(0.125,0.125;0.775x0.755)\n"
     ]
    },
    {
     "data": {
      "image/png": "[encoded data removed]",
      "text/plain": [
       "<Figure size 1080x576 with 1 Axes>"
      ]
     },
     "metadata": {
      "needs_background": "light"
     },
     "output_type": "display_data"
    }
   ],
   "source": [
    "# Grouping by a specific column and calculating the sum of another column\n",
    "group_items = Clean_data.groupby('itemDescription')\n",
    "\n",
    "# Sorting the groups based on the size of values in descending order,Selecting the top 20 groups\n",
    "sizeitem = group_items.size().sort_values(ascending = False).head(20).plot.bar(figsize=(15,8))\n",
    "\n",
    "print(sizeitem)\n",
    "\n",
    "# Adding labels and title\n",
    "plt.xlabel('Item ')\n",
    "plt.ylabel('Sum of Values')\n",
    "plt.title('Top 20 Item Purchase showing on Bar Plot')\n",
    "\n",
    "# Display the plot\n",
    "plt.show()"
   ]
  },
  {
   "cell_type": "code",
   "execution_count": 135,
   "metadata": {},
   "outputs": [
    {
     "name": "stdout",
     "output_type": "stream",
     "text": [
      "AxesSubplot(0.125,0.125;0.775x0.755)\n"
     ]
    },
    {
     "data": {
      "image/png": "[encoded data removed]",
      "text/plain": [
       "<Figure size 1080x576 with 1 Axes>"
      ]
     },
     "metadata": {
      "needs_background": "light"
     },
     "output_type": "display_data"
    }
   ],
   "source": [
    "# Grouping by a specific column and calculating the sum of another column\n",
    "group_items = Clean_data.groupby('itemDescription')\n",
    "\n",
    "# Sorting the groups based on the size of values in descending order,Selecting the top 20 groups\n",
    "Leastitem = group_items.size().sort_values(ascending = True).head(20).plot.bar(figsize=(15,8))\n",
    "\n",
    "print(Leastitem)\n",
    "\n",
    "# Adding labels and title\n",
    "Leastitem.plot(kind='bar')\n",
    "plt.xlabel('Group')\n",
    "plt.ylabel('Sum of Values')\n",
    "plt.title('Least 20 Item Purchase showing on Bar Plot')\n",
    "\n",
    "# Display the plot\n",
    "plt.show()"
   ]
  },
  {
   "cell_type": "code",
   "execution_count": 136,
   "metadata": {},
   "outputs": [
    {
     "data": {
      "text/plain": [
       "<AxesSubplot:xlabel='itemDescription', ylabel='Count'>"
      ]
     },
     "execution_count": 136,
     "metadata": {},
     "output_type": "execute_result"
    },
    {
     "data": {
      "image/png": "[encoded data removed]",
      "text/plain": [
       "<Figure size 432x288 with 1 Axes>"
      ]
     },
     "metadata": {
      "needs_background": "light"
     },
     "output_type": "display_data"
    }
   ],
   "source": [
    "#For numeric variables, create histograms, box plots, and summary statistics.\n",
    "(sns.histplot(Clean_data['itemDescription'].value_counts(),kde =False,color = 'darkred',bins = 40))"
   ]
  },
  {
   "cell_type": "code",
   "execution_count": 137,
   "metadata": {},
   "outputs": [],
   "source": [
    "#Let's visualize the columns by plotting the charts\n",
    "# plt.figure(figsize =(20, 15))\n",
    "# sns.countplot(x = 'itemDescription',hue='Member_number' ,data = Clean_data, palette = 'Blues_r')"
   ]
  },
  {
   "attachments": {},
   "cell_type": "markdown",
   "metadata": {},
   "source": [
    "PERFORMING TRANSACTIONAL ENCODING\n",
    "\n",
    "\n",
    "Transaction encoding is the process of converting transactional data into a binary matrix format where rows represent transactions and columns represent unique items.\n",
    "Each cell in the matrix indicates whether a particular item was present (1) or absent (0) in a transaction. "
   ]
  },
  {
   "cell_type": "code",
   "execution_count": 138,
   "metadata": {},
   "outputs": [
    {
     "name": "stdout",
     "output_type": "stream",
     "text": [
      "itemDescription  Instant food products  UHT-milk  abrasive cleaner  \\\n",
      "Member_number                                                        \n",
      "1000                                 0         0                 0   \n",
      "1001                                 0         0                 0   \n",
      "1002                                 0         0                 0   \n",
      "1003                                 0         0                 0   \n",
      "1004                                 0         0                 0   \n",
      "...                                ...       ...               ...   \n",
      "4996                                 0         0                 0   \n",
      "4997                                 0         0                 0   \n",
      "4998                                 0         0                 0   \n",
      "4999                                 0         0                 0   \n",
      "5000                                 0         0                 0   \n",
      "\n",
      "itemDescription  artif. sweetener  baby cosmetics  bags  baking powder  \\\n",
      "Member_number                                                            \n",
      "1000                            0               0     0              0   \n",
      "1001                            0               0     0              0   \n",
      "1002                            0               0     0              0   \n",
      "1003                            0               0     0              0   \n",
      "1004                            0               0     0              0   \n",
      "...                           ...             ...   ...            ...   \n",
      "4996                            0               0     0              0   \n",
      "4997                            0               0     0              0   \n",
      "4998                            0               0     0              0   \n",
      "4999                            0               0     0              0   \n",
      "5000                            0               0     0              0   \n",
      "\n",
      "itemDescription  bathroom cleaner  beef  berries  ...  turkey  vinegar  \\\n",
      "Member_number                                     ...                    \n",
      "1000                            0     0        0  ...       0        0   \n",
      "1001                            0     1        0  ...       0        0   \n",
      "1002                            0     0        0  ...       0        0   \n",
      "1003                            0     0        0  ...       0        0   \n",
      "1004                            0     0        0  ...       0        0   \n",
      "...                           ...   ...      ...  ...     ...      ...   \n",
      "4996                            0     0        0  ...       0        0   \n",
      "4997                            0     0        0  ...       0        0   \n",
      "4998                            0     0        0  ...       0        0   \n",
      "4999                            0     0        1  ...       0        0   \n",
      "5000                            0     0        0  ...       0        0   \n",
      "\n",
      "itemDescription  waffles  whipped/sour cream  whisky  white bread  white wine  \\\n",
      "Member_number                                                                   \n",
      "1000                   0                   0       0            0           0   \n",
      "1001                   0                   1       0            1           0   \n",
      "1002                   0                   0       0            0           0   \n",
      "1003                   0                   0       0            0           0   \n",
      "1004                   0                   0       0            0           0   \n",
      "...                  ...                 ...     ...          ...         ...   \n",
      "4996                   0                   0       0            0           0   \n",
      "4997                   0                   0       0            0           1   \n",
      "4998                   0                   0       0            0           0   \n",
      "4999                   0                   1       0            0           0   \n",
      "5000                   0                   0       0            0           0   \n",
      "\n",
      "itemDescription  whole milk  yogurt  zwieback  \n",
      "Member_number                                  \n",
      "1000                      1       1         0  \n",
      "1001                      1       0         0  \n",
      "1002                      1       0         0  \n",
      "1003                      0       0         0  \n",
      "1004                      1       0         0  \n",
      "...                     ...     ...       ...  \n",
      "4996                      0       0         0  \n",
      "4997                      1       0         0  \n",
      "4998                      0       0         0  \n",
      "4999                      0       1         0  \n",
      "5000                      0       0         0  \n",
      "\n",
      "[3898 rows x 167 columns]\n"
     ]
    }
   ],
   "source": [
    "#print(f'see the transactional coding for each member {Basket}')\n",
    "#  Grouping the DataFrame by 'Member_number' and 'itemDescription',size method is applied to count the occurrences of each item in each transaction,unstack method  was use to pivot the data, creating a matrix,fillna(0) method fills the missing values with zeros.\n",
    "\n",
    "Basket = Clean_data.groupby(['Member_number','itemDescription']).size().unstack().fillna(0)\n",
    "\n",
    "## Transaction Encoding by using applymap method to convert counts to binary values (1 if the item was present, 0 otherwise). \n",
    "Basket= Basket.applymap(lambda x: 1 if x > 0 else 0)\n",
    "\n",
    "\n",
    "# Display the encoded transactions\n",
    "print(Basket)"
   ]
  },
  {
   "cell_type": "code",
   "execution_count": 139,
   "metadata": {},
   "outputs": [],
   "source": [
    "plt.figure(figsize=(13,7))\n",
    "sns.heatmap(Basket,annot=True)"
   ]
  },
  {
   "attachments": {},
   "cell_type": "markdown",
   "metadata": {},
   "source": [
    "## USE APRIORI ALGORITHM\n",
    "\n",
    "The Apriori algorithm is a commonly used algorithm for association rule mining. It uses a breadth-first search strategy to discover frequent itemsets and generate association rules efficiently."
   ]
  },
  {
   "cell_type": "code",
   "execution_count": null,
   "metadata": {},
   "outputs": [
    {
     "name": "stderr",
     "output_type": "stream",
     "text": [
      "c:\\Users\\BUNMI\\anaconda3\\lib\\site-packages\\mlxtend\\frequent_patterns\\fpcommon.py:110: DeprecationWarning: DataFrames with non-bool types result in worse computationalperformance and their support might be discontinued in the future.Please use a DataFrame with bool type\n",
      "  warnings.warn(\n"
     ]
    },
    {
     "name": "stdout",
     "output_type": "stream",
     "text": [
      "                   antecedents                       consequents  \\\n",
      "0              (bottled water)                        (UHT-milk)   \n",
      "1                   (UHT-milk)                   (bottled water)   \n",
      "2           (other vegetables)                        (UHT-milk)   \n",
      "3                   (UHT-milk)                (other vegetables)   \n",
      "4                 (rolls/buns)                        (UHT-milk)   \n",
      "...                        ...                               ...   \n",
      "2951  (rolls/buns, whole milk)                    (yogurt, soda)   \n",
      "2952                    (soda)  (yogurt, rolls/buns, whole milk)   \n",
      "2953                  (yogurt)    (whole milk, rolls/buns, soda)   \n",
      "2954              (rolls/buns)        (whole milk, yogurt, soda)   \n",
      "2955              (whole milk)        (yogurt, rolls/buns, soda)   \n",
      "\n",
      "      antecedent support  consequent support   support  confidence      lift  \\\n",
      "0               0.213699            0.078502  0.021293    0.099640  1.269268   \n",
      "1               0.078502            0.213699  0.021293    0.271242  1.269268   \n",
      "2               0.376603            0.078502  0.038994    0.103542  1.318979   \n",
      "3               0.078502            0.376603  0.038994    0.496732  1.318979   \n",
      "4               0.349666            0.078502  0.031042    0.088775  1.130863   \n",
      "...                  ...                 ...       ...         ...       ...   \n",
      "2951            0.178553            0.097486  0.024628    0.137931  1.414882   \n",
      "2952            0.313494            0.065931  0.024628    0.078560  1.191540   \n",
      "2953            0.282966            0.065162  0.024628    0.087035  1.335684   \n",
      "2954            0.349666            0.054387  0.024628    0.070433  1.295035   \n",
      "2955            0.458184            0.042329  0.024628    0.053751  1.269836   \n",
      "\n",
      "      leverage  conviction  zhangs_metric  \n",
      "0     0.004517    1.023477       0.269801  \n",
      "1     0.004517    1.078960       0.230217  \n",
      "2     0.009430    1.027933       0.387936  \n",
      "3     0.009430    1.238697       0.262440  \n",
      "4     0.003592    1.011274       0.177939  \n",
      "...        ...         ...            ...  \n",
      "2951  0.007222    1.046916       0.356964  \n",
      "2952  0.003959    1.013705       0.234157  \n",
      "2953  0.006190    1.023959       0.350499  \n",
      "2954  0.005611    1.017262       0.350312  \n",
      "2955  0.005233    1.012071       0.392193  \n",
      "\n",
      "[2956 rows x 10 columns]\n"
     ]
    }
   ],
   "source": [
    "# Import the required libraries\n",
    "from mlxtend.frequent_patterns import apriori,association_rules\n",
    "\n",
    "# Apply the Apriori algorithm to find fr equent itemsets.(min_support represents the minimum support threshold for an itemset to be considered frequent)\n",
    "frequent_item = apriori(Basket,min_support = 0.02, use_colnames=True)\n",
    "\n",
    "#Generate association rules based on the frequent itemsets.\n",
    "rules = association_rules(frequent_item,metric=\"lift\",min_threshold=1)\n",
    "\n",
    "print(rules)"
   ]
  }
 ],
 "metadata": {
  "kernelspec": {
   "display_name": "base",
   "language": "python",
   "name": "python3"
  },
  "language_info": {
   "codemirror_mode": {
    "name": "ipython",
    "version": 3
   },
   "file_extension": ".py",
   "mimetype": "text/x-python",
   "name": "python",
   "nbconvert_exporter": "python",
   "pygments_lexer": "ipython3",
   "version": "3.9.12"
  },
  "orig_nbformat": 4
 },
 "nbformat": 4,
 "nbformat_minor": 2
}
