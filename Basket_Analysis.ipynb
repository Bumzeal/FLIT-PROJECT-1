{
 "cells": [
  {
   "attachments": {},
   "cell_type": "markdown",
   "metadata": {},
   "source": [
    "# MARKET BASKET ANALYSIS\n"
   ]
  },
  {
   "attachments": {},
   "cell_type": "markdown",
   "metadata": {},
   "source": [
    "## OBJECTIVE\n",
    "The goal of this project is to introduce you to the concept of market basket analysis, which is a crucial aspect of data science in retail and e-commerce. You will learn how to extract valuable insights from transaction data, understand customer purchasing behaviour, and use this knowledge for business optimization.Click for dataset\n"
   ]
  },
  {
   "attachments": {},
   "cell_type": "markdown",
   "metadata": {},
   "source": [
    "## TOOLS USED\n",
    "* Data Analysis Tool (Python: using Libries such Pandas)\n",
    "* Data Visualisation such Matplotlib\n",
    "* Scikit-Learn\n",
    "* Jupyter Notebook"
   ]
  },
  {
   "attachments": {},
   "cell_type": "markdown",
   "metadata": {},
   "source": [
    "1. Data Preparation\n",
    "2.Exploratory Data Analysis (EDA)\n",
    "3.Market Basket Analysis\n",
    "4.Visualization\n",
    "5.Interpretation and Insights\n",
    "6.Recommendations\n",
    "7.Presentation\n",
    "\n",
    "Deliverables:•\n",
    "A  well-documented  Jupyter  Notebook  or  report  containing  code  and explanations.\n",
    "•Visualizations that support your findings.\n",
    "•A presentation or report for your mentorship group.\n",
    "•A GitHub repository with documentation and code.\n",
    "\n"
   ]
  },
  {
   "cell_type": "code",
   "execution_count": 1,
   "metadata": {},
   "outputs": [],
   "source": [
    "# IMPORT LIBRARIES\n",
    "import pandas as pd\n",
    "import matplotlib.pyplot as plt\n",
    "import seaborn as sns\n",
    "import warnings \n",
    "warnings.filterwarnings('ignore')\n",
    "\n",
    "\n"
   ]
  },
  {
   "cell_type": "code",
   "execution_count": 2,
   "metadata": {},
   "outputs": [
    {
     "data": {
      "text/plain": [
       "'c:\\\\Users\\\\BUNMI\\\\Documents\\\\Flit Project 1'"
      ]
     },
     "execution_count": 2,
     "metadata": {},
     "output_type": "execute_result"
    }
   ],
   "source": [
    "# Import the Operating System\n",
    "\n",
    "import os \n",
    "path= \"/Users\\BUNMI\\Documents\\Flit Project 1\"\n",
    "os.chdir(path)\n",
    "os.getcwd()\n",
    "\n"
   ]
  },
  {
   "attachments": {},
   "cell_type": "markdown",
   "metadata": {},
   "source": [
    "## Data Preparation\n",
    "1. Loading data from source-Desktop\n",
    "2. Viewing Top 10 Data \n",
    "3. Checking Total number of Row& Column,Datatypes\n",
    "4. checking missing Value"
   ]
  },
  {
   "cell_type": "code",
   "execution_count": 3,
   "metadata": {},
   "outputs": [
    {
     "data": {
      "text/html": [
       "<div>\n",
       "<style scoped>\n",
       "    .dataframe tbody tr th:only-of-type {\n",
       "        vertical-align: middle;\n",
       "    }\n",
       "\n",
       "    .dataframe tbody tr th {\n",
       "        vertical-align: top;\n",
       "    }\n",
       "\n",
       "    .dataframe thead th {\n",
       "        text-align: right;\n",
       "    }\n",
       "</style>\n",
       "<table border=\"1\" class=\"dataframe\">\n",
       "  <thead>\n",
       "    <tr style=\"text-align: right;\">\n",
       "      <th></th>\n",
       "      <th>Member_number</th>\n",
       "      <th>Date</th>\n",
       "      <th>itemDescription</th>\n",
       "    </tr>\n",
       "  </thead>\n",
       "  <tbody>\n",
       "    <tr>\n",
       "      <th>0</th>\n",
       "      <td>1808</td>\n",
       "      <td>21-07-2015</td>\n",
       "      <td>tropical fruit</td>\n",
       "    </tr>\n",
       "    <tr>\n",
       "      <th>1</th>\n",
       "      <td>2552</td>\n",
       "      <td>05-01-2015</td>\n",
       "      <td>whole milk</td>\n",
       "    </tr>\n",
       "    <tr>\n",
       "      <th>2</th>\n",
       "      <td>2300</td>\n",
       "      <td>19-09-2015</td>\n",
       "      <td>pip fruit</td>\n",
       "    </tr>\n",
       "    <tr>\n",
       "      <th>3</th>\n",
       "      <td>1187</td>\n",
       "      <td>12-12-2015</td>\n",
       "      <td>other vegetables</td>\n",
       "    </tr>\n",
       "    <tr>\n",
       "      <th>4</th>\n",
       "      <td>3037</td>\n",
       "      <td>01-02-2015</td>\n",
       "      <td>whole milk</td>\n",
       "    </tr>\n",
       "    <tr>\n",
       "      <th>5</th>\n",
       "      <td>4941</td>\n",
       "      <td>14-02-2015</td>\n",
       "      <td>rolls/buns</td>\n",
       "    </tr>\n",
       "    <tr>\n",
       "      <th>6</th>\n",
       "      <td>4501</td>\n",
       "      <td>08-05-2015</td>\n",
       "      <td>other vegetables</td>\n",
       "    </tr>\n",
       "    <tr>\n",
       "      <th>7</th>\n",
       "      <td>3803</td>\n",
       "      <td>23-12-2015</td>\n",
       "      <td>pot plants</td>\n",
       "    </tr>\n",
       "    <tr>\n",
       "      <th>8</th>\n",
       "      <td>2762</td>\n",
       "      <td>20-03-2015</td>\n",
       "      <td>whole milk</td>\n",
       "    </tr>\n",
       "    <tr>\n",
       "      <th>9</th>\n",
       "      <td>4119</td>\n",
       "      <td>12-02-2015</td>\n",
       "      <td>tropical fruit</td>\n",
       "    </tr>\n",
       "  </tbody>\n",
       "</table>\n",
       "</div>"
      ],
      "text/plain": [
       "   Member_number        Date   itemDescription\n",
       "0           1808  21-07-2015    tropical fruit\n",
       "1           2552  05-01-2015        whole milk\n",
       "2           2300  19-09-2015         pip fruit\n",
       "3           1187  12-12-2015  other vegetables\n",
       "4           3037  01-02-2015        whole milk\n",
       "5           4941  14-02-2015        rolls/buns\n",
       "6           4501  08-05-2015  other vegetables\n",
       "7           3803  23-12-2015        pot plants\n",
       "8           2762  20-03-2015        whole milk\n",
       "9           4119  12-02-2015    tropical fruit"
      ]
     },
     "execution_count": 3,
     "metadata": {},
     "output_type": "execute_result"
    }
   ],
   "source": [
    "# LOAD DATASET USING PANDAS\n",
    "data= pd.read_csv(\"Market Basket Analysis - Groceries_dataset.csv\")\n",
    "\n",
    "\n",
    "#checking at the first few rows of the dataset to get a sense of its structure\n",
    "data.head(10)\n"
   ]
  },
  {
   "attachments": {},
   "cell_type": "markdown",
   "metadata": {},
   "source": [
    "#### Understanding the Data"
   ]
  },
  {
   "cell_type": "code",
   "execution_count": 4,
   "metadata": {},
   "outputs": [
    {
     "name": "stdout",
     "output_type": "stream",
     "text": [
      "This dataset contain (38765, 3) rows and column respectively\n"
     ]
    }
   ],
   "source": [
    "# what's the size of the dataset\n",
    "data_size = data.shape\n",
    "\n",
    "print(f'This dataset contain {data_size} rows and column respectively')"
   ]
  },
  {
   "cell_type": "code",
   "execution_count": 5,
   "metadata": {},
   "outputs": [
    {
     "name": "stdout",
     "output_type": "stream",
     "text": [
      "<class 'pandas.core.frame.DataFrame'>\n",
      "RangeIndex: 38765 entries, 0 to 38764\n",
      "Data columns (total 3 columns):\n",
      " #   Column           Non-Null Count  Dtype \n",
      "---  ------           --------------  ----- \n",
      " 0   Member_number    38765 non-null  int64 \n",
      " 1   Date             38765 non-null  object\n",
      " 2   itemDescription  38765 non-null  object\n",
      "dtypes: int64(1), object(2)\n",
      "memory usage: 908.7+ KB\n"
     ]
    }
   ],
   "source": [
    "# provide Additional Information of the dataset showing datatype of each Column\n",
    "data.info()"
   ]
  },
  {
   "cell_type": "code",
   "execution_count": 6,
   "metadata": {},
   "outputs": [
    {
     "ename": "ValueError",
     "evalue": "The truth value of a Series is ambiguous. Use a.empty, a.bool(), a.item(), a.any() or a.all().",
     "output_type": "error",
     "traceback": [
      "\u001b[1;31m---------------------------------------------------------------------------\u001b[0m",
      "\u001b[1;31mValueError\u001b[0m                                Traceback (most recent call last)",
      "\u001b[1;32mc:\\Users\\BUNMI\\Documents\\Flit Project 1\\Basket_Analysis.ipynb Cell 12\u001b[0m in \u001b[0;36m<cell line: 4>\u001b[1;34m()\u001b[0m\n\u001b[0;32m      <a href='vscode-notebook-cell:/c%3A/Users/BUNMI/Documents/Flit%20Project%201/Basket_Analysis.ipynb#X13sZmlsZQ%3D%3D?line=0'>1</a>\u001b[0m \u001b[39m# Identify missing values in the dataset.\u001b[39;00m\n\u001b[0;32m      <a href='vscode-notebook-cell:/c%3A/Users/BUNMI/Documents/Flit%20Project%201/Basket_Analysis.ipynb#X13sZmlsZQ%3D%3D?line=1'>2</a>\u001b[0m missing_value \u001b[39m=\u001b[39m data\u001b[39m.\u001b[39misnull()\u001b[39m.\u001b[39msum()\n\u001b[1;32m----> <a href='vscode-notebook-cell:/c%3A/Users/BUNMI/Documents/Flit%20Project%201/Basket_Analysis.ipynb#X13sZmlsZQ%3D%3D?line=3'>4</a>\u001b[0m \u001b[39mif\u001b[39;00m missing_value \u001b[39m==\u001b[39;49m \u001b[39m0\u001b[39;49m:\n\u001b[0;32m      <a href='vscode-notebook-cell:/c%3A/Users/BUNMI/Documents/Flit%20Project%201/Basket_Analysis.ipynb#X13sZmlsZQ%3D%3D?line=4'>5</a>\u001b[0m     \u001b[39mprint\u001b[39m(\u001b[39m'\u001b[39m\u001b[39mThere is no missing value\u001b[39m\u001b[39m'\u001b[39m)\n",
      "File \u001b[1;32mc:\\Users\\BUNMI\\anaconda3\\lib\\site-packages\\pandas\\core\\generic.py:1527\u001b[0m, in \u001b[0;36mNDFrame.__nonzero__\u001b[1;34m(self)\u001b[0m\n\u001b[0;32m   1525\u001b[0m \u001b[39m@final\u001b[39m\n\u001b[0;32m   1526\u001b[0m \u001b[39mdef\u001b[39;00m \u001b[39m__nonzero__\u001b[39m(\u001b[39mself\u001b[39m):\n\u001b[1;32m-> 1527\u001b[0m     \u001b[39mraise\u001b[39;00m \u001b[39mValueError\u001b[39;00m(\n\u001b[0;32m   1528\u001b[0m         \u001b[39mf\u001b[39m\u001b[39m\"\u001b[39m\u001b[39mThe truth value of a \u001b[39m\u001b[39m{\u001b[39;00m\u001b[39mtype\u001b[39m(\u001b[39mself\u001b[39m)\u001b[39m.\u001b[39m\u001b[39m__name__\u001b[39m\u001b[39m}\u001b[39;00m\u001b[39m is ambiguous. \u001b[39m\u001b[39m\"\u001b[39m\n\u001b[0;32m   1529\u001b[0m         \u001b[39m\"\u001b[39m\u001b[39mUse a.empty, a.bool(), a.item(), a.any() or a.all().\u001b[39m\u001b[39m\"\u001b[39m\n\u001b[0;32m   1530\u001b[0m     )\n",
      "\u001b[1;31mValueError\u001b[0m: The truth value of a Series is ambiguous. Use a.empty, a.bool(), a.item(), a.any() or a.all()."
     ]
    }
   ],
   "source": [
    "# Identify missing values in the dataset.\n",
    "missing_value = data.isnull().sum()\n",
    "\n",
    "if missing_value == 0:\n",
    "    print('There is no missing value')\n",
    "    "
   ]
  },
  {
   "attachments": {},
   "cell_type": "markdown",
   "metadata": {},
   "source": [
    "## Data Cleaning \n",
    "\n",
    "1. This Date was converted from Object to Date Timestamp\n",
    "2. The 759 was drop from the Dataset \n",
    "3. No Null value in the Dataset\n"
   ]
  },
  {
   "cell_type": "code",
   "execution_count": 8,
   "metadata": {},
   "outputs": [
    {
     "data": {
      "text/plain": [
       "False    38006\n",
       "True       759\n",
       "dtype: int64"
      ]
     },
     "execution_count": 8,
     "metadata": {},
     "output_type": "execute_result"
    }
   ],
   "source": [
    "data.duplicated().value_counts()"
   ]
  },
  {
   "cell_type": "code",
   "execution_count": 9,
   "metadata": {},
   "outputs": [
    {
     "name": "stdout",
     "output_type": "stream",
     "text": [
      "Total duplicate value is: 759\n"
     ]
    }
   ],
   "source": [
    "#Checking for the Total duplicate Values\n",
    "duplicate = data.duplicated().sum()\n",
    "\n",
    "#Display the result\n",
    "print(f'Total duplicate value is: {duplicate}')"
   ]
  },
  {
   "cell_type": "code",
   "execution_count": 10,
   "metadata": {},
   "outputs": [
    {
     "data": {
      "text/plain": [
       "(38006, 3)"
      ]
     },
     "execution_count": 10,
     "metadata": {},
     "output_type": "execute_result"
    }
   ],
   "source": [
    "# Removing Duplicate value which is 759 to ensure the data is properly clean\n",
    "Clean_data = data.drop_duplicates()\n",
    "\n",
    "#Check the count of the Clean Data\n",
    "Clean_data.shape"
   ]
  },
  {
   "cell_type": "code",
   "execution_count": 11,
   "metadata": {},
   "outputs": [
    {
     "name": "stdout",
     "output_type": "stream",
     "text": [
      "<class 'pandas.core.frame.DataFrame'>\n",
      "Int64Index: 38006 entries, 0 to 38764\n",
      "Data columns (total 3 columns):\n",
      " #   Column           Non-Null Count  Dtype         \n",
      "---  ------           --------------  -----         \n",
      " 0   Member_number    38006 non-null  int64         \n",
      " 1   Date             38006 non-null  datetime64[ns]\n",
      " 2   itemDescription  38006 non-null  object        \n",
      "dtypes: datetime64[ns](1), int64(1), object(1)\n",
      "memory usage: 1.2+ MB\n"
     ]
    }
   ],
   "source": [
    "#Converting Date Column From Object Data to Time stamp\n",
    "Clean_data['Date'] = pd.to_datetime(Clean_data['Date'])\n",
    "\n",
    "# Check for the types of variables (numeric, categorical, etc.)\n",
    "Clean_data.info()"
   ]
  },
  {
   "cell_type": "code",
   "execution_count": 12,
   "metadata": {},
   "outputs": [
    {
     "data": {
      "text/plain": [
       "count    38006.000000\n",
       "mean      3003.361390\n",
       "std       1153.659151\n",
       "min       1000.000000\n",
       "25%       2001.000000\n",
       "50%       3005.000000\n",
       "75%       4007.000000\n",
       "max       5000.000000\n",
       "Name: Member_number, dtype: float64"
      ]
     },
     "execution_count": 12,
     "metadata": {},
     "output_type": "execute_result"
    }
   ],
   "source": [
    "# Getting basic statistics for the variable- Member Number (mean, median, standard deviation, etc.).\n",
    "\n",
    "Clean_data['Member_number'].describe()"
   ]
  },
  {
   "attachments": {},
   "cell_type": "markdown",
   "metadata": {},
   "source": [
    "## Exploratory Data Analysis (EDA)"
   ]
  },
  {
   "cell_type": "code",
   "execution_count": 13,
   "metadata": {},
   "outputs": [
    {
     "name": "stdout",
     "output_type": "stream",
     "text": [
      "Items Bought for Each day: Date        itemDescription   \n",
      "2014-01-01  bottled water         4\n",
      "            yogurt                4\n",
      "            frozen vegetables     3\n",
      "            hamburger meat        3\n",
      "            other vegetables      3\n",
      "                                 ..\n",
      "2015-12-30  rubbing alcohol       1\n",
      "            sausage               1\n",
      "            tropical fruit        1\n",
      "            turkey                1\n",
      "            whipped/sour cream    1\n",
      "Name: itemDescription, Length: 25231, dtype: int64\n"
     ]
    }
   ],
   "source": [
    "# Checking for Item sold per day\n",
    "items_sold_Eachday = Clean_data.groupby('Date')['itemDescription'].value_counts()\n",
    "\n",
    "# Display the result\n",
    "print(f'Items Bought for Each day: {items_sold_Eachday}')\n",
    "\n"
   ]
  },
  {
   "cell_type": "code",
   "execution_count": 14,
   "metadata": {},
   "outputs": [
    {
     "data": {
      "text/html": [
       "<div>\n",
       "<style scoped>\n",
       "    .dataframe tbody tr th:only-of-type {\n",
       "        vertical-align: middle;\n",
       "    }\n",
       "\n",
       "    .dataframe tbody tr th {\n",
       "        vertical-align: top;\n",
       "    }\n",
       "\n",
       "    .dataframe thead th {\n",
       "        text-align: right;\n",
       "    }\n",
       "</style>\n",
       "<table border=\"1\" class=\"dataframe\">\n",
       "  <thead>\n",
       "    <tr style=\"text-align: right;\">\n",
       "      <th></th>\n",
       "      <th>Member_number</th>\n",
       "      <th>Date</th>\n",
       "      <th>itemDescription</th>\n",
       "    </tr>\n",
       "  </thead>\n",
       "  <tbody>\n",
       "    <tr>\n",
       "      <th>0</th>\n",
       "      <td>1808</td>\n",
       "      <td>2015-07-21</td>\n",
       "      <td>tropical fruit</td>\n",
       "    </tr>\n",
       "    <tr>\n",
       "      <th>1</th>\n",
       "      <td>2552</td>\n",
       "      <td>2015-05-01</td>\n",
       "      <td>whole milk</td>\n",
       "    </tr>\n",
       "    <tr>\n",
       "      <th>2</th>\n",
       "      <td>2300</td>\n",
       "      <td>2015-09-19</td>\n",
       "      <td>pip fruit</td>\n",
       "    </tr>\n",
       "    <tr>\n",
       "      <th>3</th>\n",
       "      <td>1187</td>\n",
       "      <td>2015-12-12</td>\n",
       "      <td>other vegetables</td>\n",
       "    </tr>\n",
       "    <tr>\n",
       "      <th>4</th>\n",
       "      <td>3037</td>\n",
       "      <td>2015-01-02</td>\n",
       "      <td>whole milk</td>\n",
       "    </tr>\n",
       "  </tbody>\n",
       "</table>\n",
       "</div>"
      ],
      "text/plain": [
       "   Member_number       Date   itemDescription\n",
       "0           1808 2015-07-21    tropical fruit\n",
       "1           2552 2015-05-01        whole milk\n",
       "2           2300 2015-09-19         pip fruit\n",
       "3           1187 2015-12-12  other vegetables\n",
       "4           3037 2015-01-02        whole milk"
      ]
     },
     "execution_count": 14,
     "metadata": {},
     "output_type": "execute_result"
    }
   ],
   "source": [
    "Clean_data.head()"
   ]
  },
  {
   "cell_type": "code",
   "execution_count": 15,
   "metadata": {},
   "outputs": [
    {
     "name": "stdout",
     "output_type": "stream",
     "text": [
      "whole milk               2502\n",
      "other vegetables         1898\n",
      "rolls/buns               1716\n",
      "soda                     1514\n",
      "yogurt                   1334\n",
      "                         ... \n",
      "rubbing alcohol             5\n",
      "bags                        4\n",
      "baby cosmetics              3\n",
      "kitchen utensil             1\n",
      "preservation products       1\n",
      "Name: itemDescription, Length: 167, dtype: int64\n"
     ]
    }
   ],
   "source": [
    "# The Item most purchase in the data\n",
    "item_count= data['itemDescription'].value_counts()\n",
    "\n",
    "# print out each Item with the number bought\n",
    "print(item_count)"
   ]
  },
  {
   "cell_type": "code",
   "execution_count": 17,
   "metadata": {},
   "outputs": [
    {
     "data": {
      "text/plain": [
       "3180    35\n",
       "3737    33\n",
       "3050    32\n",
       "2051    31\n",
       "3915    30\n",
       "2433    30\n",
       "2625    30\n",
       "2851    29\n",
       "2394    29\n",
       "3872    29\n",
       "3308    28\n",
       "4338    28\n",
       "1379    28\n",
       "2271    28\n",
       "3289    28\n",
       "4875    28\n",
       "2193    27\n",
       "2517    26\n",
       "2524    26\n",
       "1052    26\n",
       "Name: Member_number, dtype: int64"
      ]
     },
     "execution_count": 17,
     "metadata": {},
     "output_type": "execute_result"
    }
   ],
   "source": [
    "Clean_data['Member_number'].value_counts().head(20)"
   ]
  },
  {
   "cell_type": "code",
   "execution_count": 18,
   "metadata": {},
   "outputs": [
    {
     "data": {
      "text/plain": [
       "<AxesSubplot:xlabel='Member_number', ylabel='Count'>"
      ]
     },
     "execution_count": 18,
     "metadata": {},
     "output_type": "execute_result"
    },
    {
     "data": {
      "image/png": "[encoded data removed]",
      "text/plain": [
       "<Figure size 432x288 with 1 Axes>"
      ]
     },
     "metadata": {
      "needs_background": "light"
     },
     "output_type": "display_data"
    }
   ],
   "source": [
    "#For numeric variables, create histograms, box plots, and summary statistics.\n",
    "(sns.histplot(Clean_data['Member_number'].value_counts(),kde =False,color = 'darkred',bins = 40))"
   ]
  },
  {
   "cell_type": "code",
   "execution_count": 31,
   "metadata": {},
   "outputs": [
    {
     "data": {
      "text/html": [
       "<div>\n",
       "<style scoped>\n",
       "    .dataframe tbody tr th:only-of-type {\n",
       "        vertical-align: middle;\n",
       "    }\n",
       "\n",
       "    .dataframe tbody tr th {\n",
       "        vertical-align: top;\n",
       "    }\n",
       "\n",
       "    .dataframe thead th {\n",
       "        text-align: right;\n",
       "    }\n",
       "</style>\n",
       "<table border=\"1\" class=\"dataframe\">\n",
       "  <thead>\n",
       "    <tr style=\"text-align: right;\">\n",
       "      <th></th>\n",
       "      <th></th>\n",
       "      <th></th>\n",
       "    </tr>\n",
       "    <tr>\n",
       "      <th>Member_number</th>\n",
       "      <th>itemDescription</th>\n",
       "      <th>Date</th>\n",
       "    </tr>\n",
       "  </thead>\n",
       "  <tbody>\n",
       "    <tr>\n",
       "      <th rowspan=\"5\" valign=\"top\">1000</th>\n",
       "      <th>canned beer</th>\n",
       "      <th>2015-07-24</th>\n",
       "    </tr>\n",
       "    <tr>\n",
       "      <th>hygiene articles</th>\n",
       "      <th>2015-11-25</th>\n",
       "    </tr>\n",
       "    <tr>\n",
       "      <th>misc. beverages</th>\n",
       "      <th>2015-07-24</th>\n",
       "    </tr>\n",
       "    <tr>\n",
       "      <th>pastry</th>\n",
       "      <th>2014-06-24</th>\n",
       "    </tr>\n",
       "    <tr>\n",
       "      <th>pickled vegetables</th>\n",
       "      <th>2015-05-27</th>\n",
       "    </tr>\n",
       "    <tr>\n",
       "      <th>...</th>\n",
       "      <th>...</th>\n",
       "      <th>...</th>\n",
       "    </tr>\n",
       "    <tr>\n",
       "      <th rowspan=\"5\" valign=\"top\">5000</th>\n",
       "      <th>onions</th>\n",
       "      <th>2014-09-03</th>\n",
       "    </tr>\n",
       "    <tr>\n",
       "      <th>other vegetables</th>\n",
       "      <th>2014-11-16</th>\n",
       "    </tr>\n",
       "    <tr>\n",
       "      <th>root vegetables</th>\n",
       "      <th>2015-10-02</th>\n",
       "    </tr>\n",
       "    <tr>\n",
       "      <th>semi-finished bread</th>\n",
       "      <th>2015-10-02</th>\n",
       "    </tr>\n",
       "    <tr>\n",
       "      <th>soda</th>\n",
       "      <th>2015-10-02</th>\n",
       "    </tr>\n",
       "  </tbody>\n",
       "</table>\n",
       "<p>38006 rows × 0 columns</p>\n",
       "</div>"
      ],
      "text/plain": [
       "Empty DataFrame\n",
       "Columns: []\n",
       "Index: [(1000, canned beer, 2015-07-24 00:00:00), (1000, hygiene articles, 2015-11-25 00:00:00), (1000, misc. beverages, 2015-07-24 00:00:00), (1000, pastry, 2014-06-24 00:00:00), (1000, pickled vegetables, 2015-05-27 00:00:00), (1000, salty snack, 2014-06-24 00:00:00), (1000, sausage, 2015-03-15 00:00:00), (1000, sausage, 2015-11-25 00:00:00), (1000, semi-finished bread, 2015-03-15 00:00:00), (1000, soda, 2015-05-27 00:00:00), (1000, whole milk, 2014-06-24 00:00:00), (1000, whole milk, 2015-03-15 00:00:00), (1000, yogurt, 2015-03-15 00:00:00), (1001, beef, 2015-04-14 00:00:00), (1001, curd, 2015-02-05 00:00:00), (1001, frankfurter, 2015-01-20 00:00:00), (1001, frankfurter, 2015-02-05 00:00:00), (1001, rolls/buns, 2014-07-02 00:00:00), (1001, sausage, 2014-07-02 00:00:00), (1001, soda, 2014-12-12 00:00:00), (1001, soda, 2015-01-20 00:00:00), (1001, whipped/sour cream, 2015-01-20 00:00:00), (1001, white bread, 2015-04-14 00:00:00), (1001, whole milk, 2014-07-02 00:00:00), (1001, whole milk, 2014-12-12 00:00:00), (1002, butter, 2014-04-26 00:00:00), (1002, butter milk, 2015-08-30 00:00:00), (1002, frozen vegetables, 2014-09-02 00:00:00), (1002, other vegetables, 2014-09-02 00:00:00), (1002, specialty chocolate, 2015-08-30 00:00:00), (1002, sugar, 2015-04-26 00:00:00), (1002, tropical fruit, 2015-04-26 00:00:00), (1002, whole milk, 2014-04-26 00:00:00), (1003, dental care, 2014-01-19 00:00:00), (1003, detergent, 2014-10-15 00:00:00), (1003, frozen meals, 2014-01-19 00:00:00), (1003, rolls/buns, 2014-02-27 00:00:00), (1003, rolls/buns, 2015-10-02 00:00:00), (1003, root vegetables, 2014-10-15 00:00:00), (1003, sausage, 2015-10-02 00:00:00), (1004, canned beer, 2014-01-07 00:00:00), (1004, chocolate, 2014-10-06 00:00:00), (1004, chocolate, 2014-10-13 00:00:00), (1004, cling film/bags, 2014-01-05 00:00:00), (1004, dish cleaner, 2014-01-05 00:00:00), (1004, frozen fish, 2014-01-07 00:00:00), (1004, hygiene articles, 2015-02-12 00:00:00), (1004, other vegetables, 2014-10-07 00:00:00), (1004, other vegetables, 2015-02-12 00:00:00), (1004, packaged fruit/vegetables, 2014-10-13 00:00:00), (1004, pastry, 2014-08-19 00:00:00), (1004, pip fruit, 2014-04-02 00:00:00), (1004, red/blush wine, 2014-10-06 00:00:00), (1004, rolls/buns, 2014-10-06 00:00:00), (1004, rolls/buns, 2014-10-13 00:00:00), (1004, root vegetables, 2014-08-19 00:00:00), (1004, shopping bags, 2014-10-07 00:00:00), (1004, tropical fruit, 2014-04-02 00:00:00), (1004, whole milk, 2014-04-02 00:00:00), (1004, whole milk, 2014-08-19 00:00:00), (1004, whole milk, 2014-10-13 00:00:00), (1005, margarine, 2014-01-23 00:00:00), (1005, rolls/buns, 2014-09-01 00:00:00), (1005, whipped/sour cream, 2014-01-23 00:00:00), (1006, bottled beer, 2015-06-14 00:00:00), (1006, bottled water, 2014-05-07 00:00:00), (1006, chicken, 2015-06-14 00:00:00), (1006, chocolate, 2015-06-14 00:00:00), (1006, flour, 2015-06-14 00:00:00), (1006, frankfurter, 2015-06-14 00:00:00), (1006, rice, 2014-09-04 00:00:00), (1006, rolls/buns, 2014-05-07 00:00:00), (1006, rolls/buns, 2015-06-14 00:00:00), (1006, shopping bags, 2014-11-07 00:00:00), (1006, skin care, 2014-11-07 00:00:00), (1006, softener, 2014-05-07 00:00:00), (1006, whole milk, 2014-09-04 00:00:00), (1006, whole milk, 2015-06-14 00:00:00), (1008, dessert, 2015-03-10 00:00:00), (1008, domestic eggs, 2015-07-21 00:00:00), (1008, hamburger meat, 2015-03-10 00:00:00), (1008, liquor (appetizer), 2015-03-10 00:00:00), (1008, liver loaf, 2015-03-10 00:00:00), (1008, photo/film, 2015-07-21 00:00:00), (1008, root vegetables, 2015-07-21 00:00:00), (1008, soda, 2015-07-21 00:00:00), (1008, tropical fruit, 2015-07-21 00:00:00), (1008, white wine, 2015-07-21 00:00:00), (1008, yogurt, 2015-07-21 00:00:00), (1009, canned fish, 2014-01-24 00:00:00), (1009, cocoa drinks, 2014-01-24 00:00:00), (1009, herbs, 2015-05-10 00:00:00), (1009, ketchup, 2015-09-23 00:00:00), (1009, newspapers, 2015-05-10 00:00:00), (1009, pastry, 2015-09-23 00:00:00), (1009, tropical fruit, 2015-05-14 00:00:00), (1009, yogurt, 2015-05-10 00:00:00), (1009, yogurt, 2015-05-14 00:00:00), (1010, UHT-milk, 2014-05-03 00:00:00), (1010, bottled water, 2014-08-23 00:00:00), ...]\n",
       "\n",
       "[38006 rows x 0 columns]"
      ]
     },
     "execution_count": 31,
     "metadata": {},
     "output_type": "execute_result"
    }
   ],
   "source": [
    "# for more complex aggregations or when you need to group data based on multiple criteria and perform operations on those groups.\n",
    "group_member = Clean_data.groupby(['Member_number','itemDescription','Date']).count()\n",
    "\n",
    "group_member"
   ]
  },
  {
   "cell_type": "code",
   "execution_count": 38,
   "metadata": {},
   "outputs": [
    {
     "data": {
      "text/plain": [
       "<AxesSubplot:xlabel='Member_number', ylabel='Date'>"
      ]
     },
     "execution_count": 38,
     "metadata": {},
     "output_type": "execute_result"
    },
    {
     "data": {
      "image/png": "[encoded data removed]",
      "text/plain": [
       "<Figure size 864x504 with 1 Axes>"
      ]
     },
     "metadata": {
      "needs_background": "light"
     },
     "output_type": "display_data"
    }
   ],
   "source": [
    "# Identify and analyze outliers in the data.\n",
    "\n",
    "#Box plots, scatter plots, or statistical methods can help in identifying outliers.\n",
    "\n",
    "\n",
    "plt.figure(figsize=(12,7))\n",
    "sns.boxplot(x ='Member_number', y ='Date',data =Clean_data,palette= 'winter')"
   ]
  },
  {
   "cell_type": "code",
   "execution_count": 36,
   "metadata": {},
   "outputs": [
    {
     "data": {
      "text/html": [
       "<div>\n",
       "<style scoped>\n",
       "    .dataframe tbody tr th:only-of-type {\n",
       "        vertical-align: middle;\n",
       "    }\n",
       "\n",
       "    .dataframe tbody tr th {\n",
       "        vertical-align: top;\n",
       "    }\n",
       "\n",
       "    .dataframe thead th {\n",
       "        text-align: right;\n",
       "    }\n",
       "</style>\n",
       "<table border=\"1\" class=\"dataframe\">\n",
       "  <thead>\n",
       "    <tr style=\"text-align: right;\">\n",
       "      <th></th>\n",
       "      <th></th>\n",
       "    </tr>\n",
       "    <tr>\n",
       "      <th>Member_number</th>\n",
       "      <th>itemDescription</th>\n",
       "    </tr>\n",
       "  </thead>\n",
       "  <tbody>\n",
       "    <tr>\n",
       "      <th rowspan=\"5\" valign=\"top\">1000</th>\n",
       "      <th>canned beer</th>\n",
       "    </tr>\n",
       "    <tr>\n",
       "      <th>hygiene articles</th>\n",
       "    </tr>\n",
       "    <tr>\n",
       "      <th>misc. beverages</th>\n",
       "    </tr>\n",
       "    <tr>\n",
       "      <th>pastry</th>\n",
       "    </tr>\n",
       "    <tr>\n",
       "      <th>pickled vegetables</th>\n",
       "    </tr>\n",
       "    <tr>\n",
       "      <th>...</th>\n",
       "      <th>...</th>\n",
       "    </tr>\n",
       "    <tr>\n",
       "      <th rowspan=\"5\" valign=\"top\">5000</th>\n",
       "      <th>onions</th>\n",
       "    </tr>\n",
       "    <tr>\n",
       "      <th>other vegetables</th>\n",
       "    </tr>\n",
       "    <tr>\n",
       "      <th>root vegetables</th>\n",
       "    </tr>\n",
       "    <tr>\n",
       "      <th>semi-finished bread</th>\n",
       "    </tr>\n",
       "    <tr>\n",
       "      <th>soda</th>\n",
       "    </tr>\n",
       "  </tbody>\n",
       "</table>\n",
       "<p>34766 rows × 0 columns</p>\n",
       "</div>"
      ],
      "text/plain": [
       "Empty DataFrame\n",
       "Columns: []\n",
       "Index: [(1000, canned beer), (1000, hygiene articles), (1000, misc. beverages), (1000, pastry), (1000, pickled vegetables), (1000, salty snack), (1000, sausage), (1000, semi-finished bread), (1000, soda), (1000, whole milk), (1000, yogurt), (1001, beef), (1001, curd), (1001, frankfurter), (1001, rolls/buns), (1001, sausage), (1001, soda), (1001, whipped/sour cream), (1001, white bread), (1001, whole milk), (1002, butter), (1002, butter milk), (1002, frozen vegetables), (1002, other vegetables), (1002, specialty chocolate), (1002, sugar), (1002, tropical fruit), (1002, whole milk), (1003, dental care), (1003, detergent), (1003, frozen meals), (1003, rolls/buns), (1003, root vegetables), (1003, sausage), (1004, canned beer), (1004, chocolate), (1004, cling film/bags), (1004, dish cleaner), (1004, frozen fish), (1004, hygiene articles), (1004, other vegetables), (1004, packaged fruit/vegetables), (1004, pastry), (1004, pip fruit), (1004, red/blush wine), (1004, rolls/buns), (1004, root vegetables), (1004, shopping bags), (1004, tropical fruit), (1004, whole milk), (1005, margarine), (1005, rolls/buns), (1005, whipped/sour cream), (1006, bottled beer), (1006, bottled water), (1006, chicken), (1006, chocolate), (1006, flour), (1006, frankfurter), (1006, rice), (1006, rolls/buns), (1006, shopping bags), (1006, skin care), (1006, softener), (1006, whole milk), (1008, dessert), (1008, domestic eggs), (1008, hamburger meat), (1008, liquor (appetizer)), (1008, liver loaf), (1008, photo/film), (1008, root vegetables), (1008, soda), (1008, tropical fruit), (1008, white wine), (1008, yogurt), (1009, canned fish), (1009, cocoa drinks), (1009, herbs), (1009, ketchup), (1009, newspapers), (1009, pastry), (1009, tropical fruit), (1009, yogurt), (1010, UHT-milk), (1010, bottled water), (1010, candles), (1010, coffee), (1010, frankfurter), (1010, kitchen towels), (1010, pip fruit), (1010, rolls/buns), (1010, sliced cheese), (1010, specialty bar), (1011, bottled water), (1011, candles), (1011, candy), (1011, citrus fruit), (1011, curd cheese), (1011, frankfurter), ...]\n",
       "\n",
       "[34766 rows x 0 columns]"
      ]
     },
     "execution_count": 36,
     "metadata": {},
     "output_type": "execute_result"
    }
   ],
   "source": [
    "group_member2 = Clean_data.groupby(['Member_number','itemDescription']).sum()\n",
    "\n",
    "group_member2"
   ]
  },
  {
   "attachments": {},
   "cell_type": "markdown",
   "metadata": {},
   "source": [
    "### For numeric variables, create histograms, box plots, and summary statistics."
   ]
  },
  {
   "cell_type": "code",
   "execution_count": 24,
   "metadata": {},
   "outputs": [
    {
     "data": {
      "image/png": "[encoded data removed]",
      "text/plain": [
       "<Figure size 1080x576 with 1 Axes>"
      ]
     },
     "metadata": {
      "needs_background": "light"
     },
     "output_type": "display_data"
    }
   ],
   "source": [
    "\n",
    "\n",
    "# Plotting the histogram to check summary of the frequency distribution of the member number in a single column\n",
    "plt.figure(figsize =(15,8))\n",
    "# Plotting the histogram\n",
    "plt.hist(Clean_data['Member_number'].value_counts(),bins =10, color ='blue',edgecolor ='black')\n",
    "\n",
    "# Adding labels and title\n",
    "plt.xlabel('')\n",
    "plt.ylabel('frequency')\n",
    "plt.title('')\n",
    "\n",
    "#  Display the plot\n",
    "plt.show()"
   ]
  },
  {
   "attachments": {},
   "cell_type": "markdown",
   "metadata": {},
   "source": []
  },
  {
   "cell_type": "code",
   "execution_count": null,
   "metadata": {},
   "outputs": [],
   "source": []
  },
  {
   "attachments": {},
   "cell_type": "markdown",
   "metadata": {},
   "source": []
  },
  {
   "attachments": {},
   "cell_type": "markdown",
   "metadata": {},
   "source": []
  },
  {
   "attachments": {},
   "cell_type": "markdown",
   "metadata": {},
   "source": []
  },
  {
   "cell_type": "code",
   "execution_count": null,
   "metadata": {},
   "outputs": [
    {
     "data": {
      "text/plain": [
       "itemDescription\n",
       "Instant food products     60\n",
       "UHT-milk                 320\n",
       "abrasive cleaner          22\n",
       "artif. sweetener          29\n",
       "baby cosmetics             3\n",
       "bags                       4\n",
       "baking powder            121\n",
       "bathroom cleaner          17\n",
       "beef                     508\n",
       "berries                  326\n",
       "beverages                248\n",
       "bottled beer             678\n",
       "bottled water            908\n",
       "brandy                    38\n",
       "brown bread              563\n",
       "butter                   527\n",
       "butter milk              263\n",
       "cake bar                  92\n",
       "candles                   66\n",
       "candy                    215\n",
       "dtype: int64"
      ]
     },
     "execution_count": 72,
     "metadata": {},
     "output_type": "execute_result"
    }
   ],
   "source": [
    "group_items = Clean_data.groupby('itemDescription')\n",
    "\n",
    "group_items.size()"
   ]
  },
  {
   "cell_type": "code",
   "execution_count": null,
   "metadata": {},
   "outputs": [
    {
     "data": {
      "image/png": "[encoded data removed]",
      "text/plain": [
       "<Figure size 1080x576 with 1 Axes>"
      ]
     },
     "metadata": {
      "needs_background": "light"
     },
     "output_type": "display_data"
    }
   ],
   "source": [
    "plt.figure(figsize =(15,8))\n",
    "data['itemDescription'].value_counts().sort_values(ascending = False).plot()\n",
    "plt.xticks(rotation = 30)\n",
    "plt.xlabel('disease')\n",
    "plt.ylabel('settlemnts')\n",
    "plt.title('disease in setlements')\n",
    "plt.show()"
   ]
  },
  {
   "cell_type": "code",
   "execution_count": null,
   "metadata": {},
   "outputs": [
    {
     "ename": "SyntaxError",
     "evalue": "positional argument follows keyword argument (3739891892.py, line 7)",
     "output_type": "error",
     "traceback": [
      "\u001b[1;36m  Input \u001b[1;32mIn [31]\u001b[1;36m\u001b[0m\n\u001b[1;33m    plt.figure(figsize= 15,8)\u001b[0m\n\u001b[1;37m                            ^\u001b[0m\n\u001b[1;31mSyntaxError\u001b[0m\u001b[1;31m:\u001b[0m positional argument follows keyword argument\n"
     ]
    }
   ],
   "source": [
    "Plot = Clean_data.plot.bar(figsize=(15,30))\n",
    "plt.xlabel('itemDescription')\n",
    "plt.ylabel('itemDescription')\n",
    "plt.title('Count of Each Item')\n",
    "plt.show();\n",
    "\n",
    "plt.figure(figsize= 15,8)"
   ]
  },
  {
   "cell_type": "code",
   "execution_count": null,
   "metadata": {},
   "outputs": [
    {
     "ename": "TypeError",
     "evalue": "'bool' object is not callable",
     "output_type": "error",
     "traceback": [
      "\u001b[1;31m---------------------------------------------------------------------------\u001b[0m",
      "\u001b[1;31mTypeError\u001b[0m                                 Traceback (most recent call last)",
      "\u001b[1;32mc:\\Users\\BUNMI\\Documents\\Flit Project 1\\Basket_Analysis.ipynb Cell 13\u001b[0m in \u001b[0;36m<cell line: 1>\u001b[1;34m()\u001b[0m\n\u001b[1;32m----> <a href='vscode-notebook-cell:/c%3A/Users/BUNMI/Documents/Flit%20Project%201/Basket_Analysis.ipynb#X15sZmlsZQ%3D%3D?line=0'>1</a>\u001b[0m data[\u001b[39m'\u001b[39;49m\u001b[39mitemDescription\u001b[39;49m\u001b[39m'\u001b[39;49m]\u001b[39m.\u001b[39;49mis_unique()\n",
      "\u001b[1;31mTypeError\u001b[0m: 'bool' object is not callable"
     ]
    }
   ],
   "source": [
    "data['itemDescription'].is_unique()"
   ]
  },
  {
   "cell_type": "code",
   "execution_count": null,
   "metadata": {},
   "outputs": [
    {
     "ename": "TypeError",
     "evalue": "'module' object is not callable",
     "output_type": "error",
     "traceback": [
      "\u001b[1;31m---------------------------------------------------------------------------\u001b[0m",
      "\u001b[1;31mTypeError\u001b[0m                                 Traceback (most recent call last)",
      "\u001b[1;32mc:\\Users\\BUNMI\\Documents\\Flit Project 1\\Basket_Analysis.ipynb Cell 21\u001b[0m in \u001b[0;36m<cell line: 2>\u001b[1;34m()\u001b[0m\n\u001b[0;32m      <a href='vscode-notebook-cell:/c%3A/Users/BUNMI/Documents/Flit%20Project%201/Basket_Analysis.ipynb#X33sZmlsZQ%3D%3D?line=0'>1</a>\u001b[0m \u001b[39m#Let's visualize the columns by plotting the charts\u001b[39;00m\n\u001b[1;32m----> <a href='vscode-notebook-cell:/c%3A/Users/BUNMI/Documents/Flit%20Project%201/Basket_Analysis.ipynb#X33sZmlsZQ%3D%3D?line=1'>2</a>\u001b[0m plt\u001b[39m.\u001b[39;49mfigure(figsize \u001b[39m=\u001b[39;49m(\u001b[39m20\u001b[39;49m, \u001b[39m15\u001b[39;49m))\n\u001b[0;32m      <a href='vscode-notebook-cell:/c%3A/Users/BUNMI/Documents/Flit%20Project%201/Basket_Analysis.ipynb#X33sZmlsZQ%3D%3D?line=2'>3</a>\u001b[0m sns\u001b[39m.\u001b[39mcountplot(x \u001b[39m=\u001b[39m \u001b[39m'\u001b[39m\u001b[39mitemDescription\u001b[39m\u001b[39m'\u001b[39m, data \u001b[39m=\u001b[39m Clean_data, palette \u001b[39m=\u001b[39m \u001b[39m'\u001b[39m\u001b[39mBlues_r\u001b[39m\u001b[39m'\u001b[39m)\n",
      "\u001b[1;31mTypeError\u001b[0m: 'module' object is not callable"
     ]
    }
   ],
   "source": [
    "#Let's visualize the columns by plotting the charts\n",
    "plt.figure(figsize =(20, 15))\n",
    "sns.countplot(x = 'itemDescription',hue='Member_number' ,data = Clean_data, palette = 'Blues_r')"
   ]
  }
 ],
 "metadata": {
  "kernelspec": {
   "display_name": "base",
   "language": "python",
   "name": "python3"
  },
  "language_info": {
   "codemirror_mode": {
    "name": "ipython",
    "version": 3
   },
   "file_extension": ".py",
   "mimetype": "text/x-python",
   "name": "python",
   "nbconvert_exporter": "python",
   "pygments_lexer": "ipython3",
   "version": "3.9.12"
  },
  "orig_nbformat": 4
 },
 "nbformat": 4,
 "nbformat_minor": 2
}
